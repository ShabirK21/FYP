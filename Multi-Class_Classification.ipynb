{
 "cells": [
  {
   "cell_type": "code",
   "execution_count": null,
   "id": "f2722387-6dd4-4830-b503-2361be924210",
   "metadata": {},
   "outputs": [],
   "source": [
    "import os\n",
    "import cv2\n",
    "import tensorflow as tf\n",
    "import numpy as np\n",
    "from tensorflow.keras.models import Sequential\n",
    "from tensorflow.keras.layers import Conv2D, MaxPooling2D, Flatten, Dense, Dropout\n",
    "from sklearn.model_selection import train_test_split\n",
    "from sklearn.model_selection import KFold\n",
    "from sklearn.metrics import accuracy_score"
   ]
  },
  {
   "cell_type": "code",
   "execution_count": null,
   "id": "447a479a-32d3-4945-a6ea-91a0ca04d073",
   "metadata": {},
   "outputs": [],
   "source": [
    "SIZE = 256\n",
    "\n",
    "BENIGN_IMAGES_DIR = 'datasets/Dataset_BUSI_with_GT/benign/'\n",
    "MALIGNANT_IMAGES_DIR = 'datasets/Dataset_BUSI_with_GT/malignant/'\n",
    "NORMAL_IMAGES_DIR = 'datasets/Dataset_BUSI_with_GT/normal/'"
   ]
  },
  {
   "cell_type": "code",
   "execution_count": null,
   "id": "6e7ff6fb-330e-46c4-9366-517ee22ea35c",
   "metadata": {},
   "outputs": [],
   "source": [
    "def load_data(images_dir, label):\n",
    "    images = []\n",
    "    labels = []\n",
    "    IMG_WIDTH, IMG_HEIGHT = 256, 256  # Set your desired image dimensions\n",
    "\n",
    "    for filename in os.listdir(images_dir):\n",
    "        if filename.endswith('.png') and '_mask' not in filename:\n",
    "            # Load and preprocess image\n",
    "            img = cv2.imread(os.path.join(images_dir, filename))\n",
    "            img = cv2.cvtColor(img, cv2.COLOR_BGR2GRAY)\n",
    "            img = cv2.resize(img, (SIZE, SIZE))\n",
    "            img = img / 255.0  # Normalize image to range [0, 1]\n",
    "            images.append(img)\n",
    "            labels.append(label)  # Append the label for each image\n",
    "\n",
    "    images = np.array(images)\n",
    "    labels = np.array(labels)\n",
    "\n",
    "    return images, labels"
   ]
  },
  {
   "cell_type": "code",
   "execution_count": null,
   "id": "7811739e-3a62-4002-88da-ca2db97b003f",
   "metadata": {},
   "outputs": [],
   "source": [
    "normal_images, normal_labels = load_data(NORMAL_IMAGES_DIR, 0)\n",
    "benign_images, benign_labels = load_data(BENIGN_IMAGES_DIR, 1)\n",
    "malignant_images, malignant_labels = load_data(MALIGNANT_IMAGES_DIR, 2)"
   ]
  },
  {
   "cell_type": "code",
   "execution_count": null,
   "id": "a9b2cb78-bb50-4e18-8b11-ec9e0bb55292",
   "metadata": {},
   "outputs": [],
   "source": [
    "# Concatenate the images and labels\n",
    "all_images = np.concatenate((normal_images, benign_images, malignant_images), axis=0)\n",
    "all_labels = np.concatenate((normal_labels, benign_labels, malignant_labels), axis=0)\n",
    "\n",
    "# Split the data into training and testing sets\n",
    "X_train, X_test, y_train, y_test = train_test_split(all_images, all_labels, test_size=0.2, random_state=42)"
   ]
  },
  {
   "cell_type": "code",
   "execution_count": null,
   "id": "02b9309a-784c-4173-91e6-820b954ef0c6",
   "metadata": {},
   "outputs": [],
   "source": [
    "def create_cnn_model(input_shape):\n",
    "    model = Sequential()\n",
    "    model.add(Conv2D(32, (3, 3), activation='relu', input_shape=input_shape))\n",
    "    model.add(MaxPooling2D((2, 2)))\n",
    "    model.add(Conv2D(64, (3, 3), activation='relu'))\n",
    "    model.add(MaxPooling2D((2, 2)))\n",
    "    model.add(Conv2D(128, (3, 3), activation='relu'))\n",
    "    model.add(MaxPooling2D((2, 2)))\n",
    "    model.add(Flatten())\n",
    "    model.add(Dense(128, activation='relu'))\n",
    "    model.add(Dropout(0.2))\n",
    "    model.add(Dense(3, activation='softmax'))  # 3 classes: normal, benign, malignant\n",
    "\n",
    "    model.compile(optimizer='adam', loss='sparse_categorical_crossentropy', metrics=['accuracy'])\n",
    "    return model\n",
    "\n",
    "# Create the model\n",
    "input_shape = (SIZE, SIZE, 1)\n",
    "cnn_model = create_cnn_model(input_shape)\n",
    "\n",
    "# Train the model\n",
    "cnn_model.fit(X_train, y_train, epochs=15, batch_size=16, validation_split=0.2)"
   ]
  },
  {
   "cell_type": "code",
   "execution_count": null,
   "id": "8ad8ef27-8e62-4481-9111-9331ea7f38e1",
   "metadata": {},
   "outputs": [],
   "source": [
    "# Make predictions on the test set\n",
    "y_pred = cnn_model.predict(X_test)\n",
    "\n",
    "# Convert predictions to class labels\n",
    "y_pred_classes = np.argmax(y_pred, axis=1)\n",
    "\n",
    "# Print the first 10 predictions and their corresponding true labels\n",
    "print(\"Predicted classes: \", y_pred_classes[:10])\n",
    "print(\"True classes: \", y_test[:10])\n",
    "\n",
    "# Calculate the accuracy\n",
    "accuracy = accuracy_score(y_test, y_pred_classes)\n",
    "print(f'Accuracy on the test set: {accuracy * 100:.2f}%')"
   ]
  }
 ],
 "metadata": {
  "kernelspec": {
   "display_name": "Python 3",
   "language": "python",
   "name": "python3"
  },
  "language_info": {
   "codemirror_mode": {
    "name": "ipython",
    "version": 3
   },
   "file_extension": ".py",
   "mimetype": "text/x-python",
   "name": "python",
   "nbconvert_exporter": "python",
   "pygments_lexer": "ipython3",
   "version": "3.6.9"
  }
 },
 "nbformat": 4,
 "nbformat_minor": 5
}
